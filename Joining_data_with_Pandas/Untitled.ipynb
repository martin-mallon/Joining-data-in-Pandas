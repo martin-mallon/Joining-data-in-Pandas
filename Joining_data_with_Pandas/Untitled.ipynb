{
 "cells": [
  {
   "cell_type": "markdown",
   "id": "5b8619bd",
   "metadata": {},
   "source": [
    "<h1><font color='black'>Joining data in Pandas</font></h1>\n",
    "\n",
    "<p align=\"center\" width=\"100%\">\n",
    "    <img width=\"100%\" src=\"\">\n",
    "</p>"
   ]
  },
  {
   "cell_type": "markdown",
   "id": "fc851510",
   "metadata": {},
   "source": [
    "<hr>\n",
    "\n",
    "<h2><font color='black'>How to join</font></h2>\n",
    "\n",
    "<h3><font color='grey'>Pandas basics</font></h3>"
   ]
  },
  {
   "cell_type": "code",
   "execution_count": 77,
   "id": "be766a97",
   "metadata": {},
   "outputs": [],
   "source": [
    "# pandas\n",
    "import pandas as pd\n",
    "\n",
    "# libraries\n",
    "import numpy as np\n",
    "import matplotlib.pyplot as plt\n",
    "import seaborn as sns\n",
    "\n",
    "# style\n",
    "!pip install ipynb | grep -v 'already satisfied'\n",
    "from ipynb.fs.full.Style_Sheet import *\n",
    "plt.style.use(style_use)\n",
    "plt.rcParams.update(style_params)"
   ]
  },
  {
   "cell_type": "markdown",
   "id": "9c028de6",
   "metadata": {},
   "source": [
    "<br>\n",
    "\n",
    "<h3><font color='grey'>Sessions data</font></h3>\n",
    "\n",
    "<p></p>\n",
    "\n",
    "<br>"
   ]
  },
  {
   "cell_type": "code",
   "execution_count": 76,
   "id": "3eec04d5",
   "metadata": {},
   "outputs": [
    {
     "name": "stdout",
     "output_type": "stream",
     "text": [
      "Sample: 10000\n"
     ]
    },
    {
     "data": {
      "text/html": [
       "<div>\n",
       "<style scoped>\n",
       "    .dataframe tbody tr th:only-of-type {\n",
       "        vertical-align: middle;\n",
       "    }\n",
       "\n",
       "    .dataframe tbody tr th {\n",
       "        vertical-align: top;\n",
       "    }\n",
       "\n",
       "    .dataframe thead th {\n",
       "        text-align: right;\n",
       "    }\n",
       "</style>\n",
       "<table border=\"1\" class=\"dataframe\">\n",
       "  <thead>\n",
       "    <tr style=\"text-align: right;\">\n",
       "      <th></th>\n",
       "      <th>session_id</th>\n",
       "      <th>date_event</th>\n",
       "      <th>date_timestamp_event</th>\n",
       "    </tr>\n",
       "  </thead>\n",
       "  <tbody>\n",
       "    <tr>\n",
       "      <th>0</th>\n",
       "      <td>ad22f37f-3090</td>\n",
       "      <td>05/05/2022</td>\n",
       "      <td>05/05/2022 21:19:54</td>\n",
       "    </tr>\n",
       "    <tr>\n",
       "      <th>1</th>\n",
       "      <td>dec34cea-8172</td>\n",
       "      <td>05/05/2022</td>\n",
       "      <td>05/05/2022 11:12:54</td>\n",
       "    </tr>\n",
       "    <tr>\n",
       "      <th>2</th>\n",
       "      <td>532c96bd-5036</td>\n",
       "      <td>05/05/2022</td>\n",
       "      <td>05/05/2022 12:51:22</td>\n",
       "    </tr>\n",
       "    <tr>\n",
       "      <th>3</th>\n",
       "      <td>5c503911-6193</td>\n",
       "      <td>05/05/2022</td>\n",
       "      <td>05/05/2022 15:28:44</td>\n",
       "    </tr>\n",
       "    <tr>\n",
       "      <th>4</th>\n",
       "      <td>a36043e6-3259</td>\n",
       "      <td>05/05/2022</td>\n",
       "      <td>05/05/2022 11:28:08</td>\n",
       "    </tr>\n",
       "  </tbody>\n",
       "</table>\n",
       "</div>"
      ],
      "text/plain": [
       "      session_id  date_event date_timestamp_event\n",
       "0  ad22f37f-3090  05/05/2022  05/05/2022 21:19:54\n",
       "1  dec34cea-8172  05/05/2022  05/05/2022 11:12:54\n",
       "2  532c96bd-5036  05/05/2022  05/05/2022 12:51:22\n",
       "3  5c503911-6193  05/05/2022  05/05/2022 15:28:44\n",
       "4  a36043e6-3259  05/05/2022  05/05/2022 11:28:08"
      ]
     },
     "execution_count": 76,
     "metadata": {},
     "output_type": "execute_result"
    }
   ],
   "source": [
    "# function\n",
    "def csv_to_df(file_path):\n",
    "    df = pd.read_csv(file_path)\n",
    "    return df\n",
    "\n",
    "# sessions\n",
    "sessions = csv_to_df('data_sessions.csv')\n",
    "print('Sample: ' + str(len(sessions)))\n",
    "sessions.head()"
   ]
  },
  {
   "cell_type": "markdown",
   "id": "96df5854",
   "metadata": {},
   "source": [
    "<br>\n",
    "\n",
    "<h3><font color='grey'>Related tables</font></h3>\n",
    "\n",
    "<p></p>\n",
    "\n",
    "<br>"
   ]
  },
  {
   "cell_type": "code",
   "execution_count": 2,
   "id": "f1e15c41",
   "metadata": {},
   "outputs": [
    {
     "data": {
      "text/html": [
       "<div>\n",
       "<style scoped>\n",
       "    .dataframe tbody tr th:only-of-type {\n",
       "        vertical-align: middle;\n",
       "    }\n",
       "\n",
       "    .dataframe tbody tr th {\n",
       "        vertical-align: top;\n",
       "    }\n",
       "\n",
       "    .dataframe thead th {\n",
       "        text-align: right;\n",
       "    }\n",
       "</style>\n",
       "<table border=\"1\" class=\"dataframe\">\n",
       "  <thead>\n",
       "    <tr style=\"text-align: right;\">\n",
       "      <th></th>\n",
       "      <th>session_id</th>\n",
       "      <th>account_login</th>\n",
       "      <th>basket_page</th>\n",
       "      <th>checkout_page</th>\n",
       "      <th>order_placed</th>\n",
       "    </tr>\n",
       "  </thead>\n",
       "  <tbody>\n",
       "    <tr>\n",
       "      <th>0</th>\n",
       "      <td>ad22f37f-3090</td>\n",
       "      <td>0</td>\n",
       "      <td>0</td>\n",
       "      <td>0</td>\n",
       "      <td>0</td>\n",
       "    </tr>\n",
       "    <tr>\n",
       "      <th>1</th>\n",
       "      <td>dec34cea-8172</td>\n",
       "      <td>0</td>\n",
       "      <td>0</td>\n",
       "      <td>0</td>\n",
       "      <td>0</td>\n",
       "    </tr>\n",
       "    <tr>\n",
       "      <th>2</th>\n",
       "      <td>532c96bd-5036</td>\n",
       "      <td>1</td>\n",
       "      <td>0</td>\n",
       "      <td>0</td>\n",
       "      <td>0</td>\n",
       "    </tr>\n",
       "    <tr>\n",
       "      <th>3</th>\n",
       "      <td>5c503911-6193</td>\n",
       "      <td>0</td>\n",
       "      <td>0</td>\n",
       "      <td>0</td>\n",
       "      <td>0</td>\n",
       "    </tr>\n",
       "    <tr>\n",
       "      <th>4</th>\n",
       "      <td>a36043e6-3259</td>\n",
       "      <td>1</td>\n",
       "      <td>0</td>\n",
       "      <td>0</td>\n",
       "      <td>0</td>\n",
       "    </tr>\n",
       "  </tbody>\n",
       "</table>\n",
       "</div>"
      ],
      "text/plain": [
       "      session_id  account_login  basket_page  checkout_page  order_placed\n",
       "0  ad22f37f-3090              0            0              0             0\n",
       "1  dec34cea-8172              0            0              0             0\n",
       "2  532c96bd-5036              1            0              0             0\n",
       "3  5c503911-6193              0            0              0             0\n",
       "4  a36043e6-3259              1            0              0             0"
      ]
     },
     "execution_count": 2,
     "metadata": {},
     "output_type": "execute_result"
    }
   ],
   "source": [
    "# journey\n",
    "journey = csv_to_df('data_journey.csv')\n",
    "journey.head()"
   ]
  },
  {
   "cell_type": "markdown",
   "id": "ebd0e406",
   "metadata": {},
   "source": [
    "<hr>\n",
    "\n",
    "<br>\n",
    "\n",
    "<h2><font color='black'>Inner merge</font></h2>\n",
    "\n",
    "<h3><font color='grey'>Ordering sessions only</font></h3>\n",
    "\n",
    "<p></p>\n",
    "\n",
    "<br>"
   ]
  },
  {
   "cell_type": "code",
   "execution_count": 3,
   "id": "926ee11a",
   "metadata": {},
   "outputs": [
    {
     "name": "stdout",
     "output_type": "stream",
     "text": [
      "Volume of ordering sessions: 553\n"
     ]
    },
    {
     "data": {
      "text/html": [
       "<div>\n",
       "<style scoped>\n",
       "    .dataframe tbody tr th:only-of-type {\n",
       "        vertical-align: middle;\n",
       "    }\n",
       "\n",
       "    .dataframe tbody tr th {\n",
       "        vertical-align: top;\n",
       "    }\n",
       "\n",
       "    .dataframe thead th {\n",
       "        text-align: right;\n",
       "    }\n",
       "</style>\n",
       "<table border=\"1\" class=\"dataframe\">\n",
       "  <thead>\n",
       "    <tr style=\"text-align: right;\">\n",
       "      <th></th>\n",
       "      <th>session_id</th>\n",
       "      <th>date_event</th>\n",
       "      <th>date_timestamp_event</th>\n",
       "      <th>order_placed</th>\n",
       "    </tr>\n",
       "  </thead>\n",
       "  <tbody>\n",
       "    <tr>\n",
       "      <th>0</th>\n",
       "      <td>65b27871-6553</td>\n",
       "      <td>05/05/2022</td>\n",
       "      <td>05/05/2022 11:09:49</td>\n",
       "      <td>1</td>\n",
       "    </tr>\n",
       "    <tr>\n",
       "      <th>1</th>\n",
       "      <td>47efb53a-8254</td>\n",
       "      <td>05/05/2022</td>\n",
       "      <td>05/05/2022 09:24:34</td>\n",
       "      <td>1</td>\n",
       "    </tr>\n",
       "    <tr>\n",
       "      <th>2</th>\n",
       "      <td>97318337-5506</td>\n",
       "      <td>05/05/2022</td>\n",
       "      <td>05/05/2022 20:26:48</td>\n",
       "      <td>1</td>\n",
       "    </tr>\n",
       "    <tr>\n",
       "      <th>3</th>\n",
       "      <td>4600a228-1818</td>\n",
       "      <td>05/05/2022</td>\n",
       "      <td>05/05/2022 00:58:56</td>\n",
       "      <td>1</td>\n",
       "    </tr>\n",
       "    <tr>\n",
       "      <th>4</th>\n",
       "      <td>67bdf976-8388</td>\n",
       "      <td>05/05/2022</td>\n",
       "      <td>05/05/2022 07:20:26</td>\n",
       "      <td>1</td>\n",
       "    </tr>\n",
       "  </tbody>\n",
       "</table>\n",
       "</div>"
      ],
      "text/plain": [
       "      session_id  date_event date_timestamp_event  order_placed\n",
       "0  65b27871-6553  05/05/2022  05/05/2022 11:09:49             1\n",
       "1  47efb53a-8254  05/05/2022  05/05/2022 09:24:34             1\n",
       "2  97318337-5506  05/05/2022  05/05/2022 20:26:48             1\n",
       "3  4600a228-1818  05/05/2022  05/05/2022 00:58:56             1\n",
       "4  67bdf976-8388  05/05/2022  05/05/2022 07:20:26             1"
      ]
     },
     "execution_count": 3,
     "metadata": {},
     "output_type": "execute_result"
    }
   ],
   "source": [
    "# subset journey for orders only\n",
    "cols = ['session_id', 'order_placed']\n",
    "crit = journey['order_placed']==1\n",
    "orders = pd.DataFrame(journey[cols][crit])\n",
    "print('Volume of ordering sessions: ' + str(len(orders)))\n",
    "\n",
    "# inner merge\n",
    "orders_only = sessions.merge(orders, on='session_id', how='inner')\n",
    "orders_only.head()"
   ]
  },
  {
   "cell_type": "markdown",
   "id": "21fa308f",
   "metadata": {},
   "source": [
    "<hr>\n",
    "\n",
    "<br>\n",
    "\n",
    "<h2><font color='black'>Left merge</font></h2>\n",
    "\n",
    "<h3><font color='grey'>Orders & no orders</font></h3>\n",
    "\n",
    "<p></p>\n",
    "\n",
    "<br>"
   ]
  },
  {
   "cell_type": "code",
   "execution_count": 22,
   "id": "6b648a7c",
   "metadata": {},
   "outputs": [
    {
     "name": "stdout",
     "output_type": "stream",
     "text": [
      "(10000, 4)\n"
     ]
    },
    {
     "data": {
      "text/html": [
       "<div>\n",
       "<style scoped>\n",
       "    .dataframe tbody tr th:only-of-type {\n",
       "        vertical-align: middle;\n",
       "    }\n",
       "\n",
       "    .dataframe tbody tr th {\n",
       "        vertical-align: top;\n",
       "    }\n",
       "\n",
       "    .dataframe thead th {\n",
       "        text-align: right;\n",
       "    }\n",
       "</style>\n",
       "<table border=\"1\" class=\"dataframe\">\n",
       "  <thead>\n",
       "    <tr style=\"text-align: right;\">\n",
       "      <th></th>\n",
       "      <th>session_id</th>\n",
       "      <th>date_event</th>\n",
       "      <th>date_timestamp_event</th>\n",
       "      <th>order_placed</th>\n",
       "    </tr>\n",
       "  </thead>\n",
       "  <tbody>\n",
       "    <tr>\n",
       "      <th>0</th>\n",
       "      <td>ad22f37f-3090</td>\n",
       "      <td>05/05/2022</td>\n",
       "      <td>05/05/2022 21:19:54</td>\n",
       "      <td>0.0</td>\n",
       "    </tr>\n",
       "    <tr>\n",
       "      <th>1</th>\n",
       "      <td>dec34cea-8172</td>\n",
       "      <td>05/05/2022</td>\n",
       "      <td>05/05/2022 11:12:54</td>\n",
       "      <td>0.0</td>\n",
       "    </tr>\n",
       "    <tr>\n",
       "      <th>2</th>\n",
       "      <td>532c96bd-5036</td>\n",
       "      <td>05/05/2022</td>\n",
       "      <td>05/05/2022 12:51:22</td>\n",
       "      <td>0.0</td>\n",
       "    </tr>\n",
       "    <tr>\n",
       "      <th>3</th>\n",
       "      <td>5c503911-6193</td>\n",
       "      <td>05/05/2022</td>\n",
       "      <td>05/05/2022 15:28:44</td>\n",
       "      <td>0.0</td>\n",
       "    </tr>\n",
       "    <tr>\n",
       "      <th>4</th>\n",
       "      <td>a36043e6-3259</td>\n",
       "      <td>05/05/2022</td>\n",
       "      <td>05/05/2022 11:28:08</td>\n",
       "      <td>0.0</td>\n",
       "    </tr>\n",
       "  </tbody>\n",
       "</table>\n",
       "</div>"
      ],
      "text/plain": [
       "      session_id  date_event date_timestamp_event  order_placed\n",
       "0  ad22f37f-3090  05/05/2022  05/05/2022 21:19:54           0.0\n",
       "1  dec34cea-8172  05/05/2022  05/05/2022 11:12:54           0.0\n",
       "2  532c96bd-5036  05/05/2022  05/05/2022 12:51:22           0.0\n",
       "3  5c503911-6193  05/05/2022  05/05/2022 15:28:44           0.0\n",
       "4  a36043e6-3259  05/05/2022  05/05/2022 11:28:08           0.0"
      ]
     },
     "execution_count": 22,
     "metadata": {},
     "output_type": "execute_result"
    }
   ],
   "source": [
    "# left merge\n",
    "orders_all = sessions.merge(orders, on='session_id', how='left')\n",
    "\n",
    "# replace nulls with 0\n",
    "orders_all['order_placed'] = orders_all['order_placed'].fillna(0)\n",
    "\n",
    "# show\n",
    "print(orders_all.shape)\n",
    "orders_all.head()"
   ]
  },
  {
   "cell_type": "code",
   "execution_count": 20,
   "id": "5e1804a1",
   "metadata": {},
   "outputs": [
    {
     "data": {
      "image/png": "[encoded data removed]",
      "text/plain": [
       "<Figure size 864x432 with 1 Axes>"
      ]
     },
     "metadata": {},
     "output_type": "display_data"
    }
   ],
   "source": [
    "# pivot\n",
    "orders_pivot = orders_all.groupby('order_placed').agg({'order_placed': 'count'})\n",
    "\n",
    "# pie\n",
    "def viz_pie(ax, y, labels, explode):\n",
    "    ax.pie(y, labels=labels, explode=explode, startangle=90, colors=palette_paired, autopct='%.0f%%')\n",
    "    ax.set_title(title)\n",
    "\n",
    "# variables\n",
    "y = orders_pivot['order_placed']\n",
    "labels = ['No Order / Null', 'Order / 1']\n",
    "explode = [0.2, 0]\n",
    "title = 'Left join - Orders vs No Order'\n",
    "\n",
    "# viz\n",
    "fig, ax_1 = plt.subplots(nrows=1, ncols=1, figsize=(12,6))\n",
    "viz_pie(ax_1, y, labels, explode)\n",
    "plt.show()"
   ]
  },
  {
   "cell_type": "markdown",
   "id": "256c432a",
   "metadata": {},
   "source": [
    "<hr>\n",
    "\n",
    "<br>\n",
    "\n",
    "<h2><font color='black'>Right merge</font></h2>\n",
    "\n",
    "<h3><font color='grey'>Limiting to orderers only</font></h3>\n",
    "\n",
    "<p></p>\n",
    "\n",
    "<br>"
   ]
  },
  {
   "cell_type": "code",
   "execution_count": 31,
   "id": "d8ffd01f",
   "metadata": {},
   "outputs": [
    {
     "data": {
      "text/html": [
       "<div>\n",
       "<style scoped>\n",
       "    .dataframe tbody tr th:only-of-type {\n",
       "        vertical-align: middle;\n",
       "    }\n",
       "\n",
       "    .dataframe tbody tr th {\n",
       "        vertical-align: top;\n",
       "    }\n",
       "\n",
       "    .dataframe thead th {\n",
       "        text-align: right;\n",
       "    }\n",
       "</style>\n",
       "<table border=\"1\" class=\"dataframe\">\n",
       "  <thead>\n",
       "    <tr style=\"text-align: right;\">\n",
       "      <th></th>\n",
       "      <th>session_id</th>\n",
       "      <th>device_type</th>\n",
       "    </tr>\n",
       "  </thead>\n",
       "  <tbody>\n",
       "    <tr>\n",
       "      <th>0</th>\n",
       "      <td>ad22f37f-3090</td>\n",
       "      <td>Desktop</td>\n",
       "    </tr>\n",
       "    <tr>\n",
       "      <th>1</th>\n",
       "      <td>dec34cea-8172</td>\n",
       "      <td>App iOS</td>\n",
       "    </tr>\n",
       "    <tr>\n",
       "      <th>2</th>\n",
       "      <td>532c96bd-5036</td>\n",
       "      <td>App iOS</td>\n",
       "    </tr>\n",
       "    <tr>\n",
       "      <th>3</th>\n",
       "      <td>5c503911-6193</td>\n",
       "      <td>App iOS</td>\n",
       "    </tr>\n",
       "    <tr>\n",
       "      <th>4</th>\n",
       "      <td>a36043e6-3259</td>\n",
       "      <td>App Android</td>\n",
       "    </tr>\n",
       "  </tbody>\n",
       "</table>\n",
       "</div>"
      ],
      "text/plain": [
       "      session_id  device_type\n",
       "0  ad22f37f-3090      Desktop\n",
       "1  dec34cea-8172      App iOS\n",
       "2  532c96bd-5036      App iOS\n",
       "3  5c503911-6193      App iOS\n",
       "4  a36043e6-3259  App Android"
      ]
     },
     "execution_count": 31,
     "metadata": {},
     "output_type": "execute_result"
    }
   ],
   "source": [
    "# device\n",
    "device = csv_to_df('data_device.csv')\n",
    "device.head()"
   ]
  },
  {
   "cell_type": "code",
   "execution_count": 49,
   "id": "258ed478",
   "metadata": {},
   "outputs": [
    {
     "data": {
      "image/png": "[encoded data removed]",
      "text/plain": [
       "<Figure size 864x432 with 1 Axes>"
      ]
     },
     "metadata": {},
     "output_type": "display_data"
    }
   ],
   "source": [
    "# pivot device\n",
    "device_pivot = device.groupby('device_type').agg({'session_id':'count'})\n",
    "\n",
    "# right merge with orders\n",
    "device_orders = device.merge(orders, on='session_id', how='right')\n",
    "device_orders_pivot = device_orders.groupby('device_type').agg({'session_id':'count'})\n",
    "\n",
    "# return right join to other df\n",
    "device_pivot['right_table'] = device_orders_pivot['session_id']\n",
    "\n",
    "# bar graph\n",
    "def viz_bar(ax, data, stacked, title, y_label, x_label):\n",
    "    data.plot(ax=ax, kind='bar', stacked=stacked, color=palette_paired, alpha=1)\n",
    "    ax.set_title(title)\n",
    "    ax.set_ylabel(y_label)\n",
    "    ax.set_xlabel(x_label)\n",
    "\n",
    "# viz\n",
    "fig, ax_1 = plt.subplots(nrows=1, ncols=1, figsize=(12,6))\n",
    "viz_bar(ax_1, device_pivot, False, 'Right join limits observations to orders from right table', 'Sessions', 'Device')\n",
    "plt.show()"
   ]
  },
  {
   "cell_type": "markdown",
   "id": "3532d235",
   "metadata": {},
   "source": [
    "<hr>\n",
    "\n",
    "<br>\n",
    "\n",
    "<h2><font color='black'>Outer merge</font></h2>\n",
    "\n",
    "<h3><font color='grey'>Desktop users & all orderers</font></h3>\n",
    "\n",
    "<p></p>\n",
    "\n",
    "<br>"
   ]
  },
  {
   "cell_type": "code",
   "execution_count": 74,
   "id": "11d9873d",
   "metadata": {},
   "outputs": [
    {
     "data": {
      "text/html": [
       "<div>\n",
       "<style scoped>\n",
       "    .dataframe tbody tr th:only-of-type {\n",
       "        vertical-align: middle;\n",
       "    }\n",
       "\n",
       "    .dataframe tbody tr th {\n",
       "        vertical-align: top;\n",
       "    }\n",
       "\n",
       "    .dataframe thead th {\n",
       "        text-align: right;\n",
       "    }\n",
       "</style>\n",
       "<table border=\"1\" class=\"dataframe\">\n",
       "  <thead>\n",
       "    <tr style=\"text-align: right;\">\n",
       "      <th></th>\n",
       "      <th>session_id</th>\n",
       "      <th>device_type</th>\n",
       "      <th>order_placed</th>\n",
       "    </tr>\n",
       "  </thead>\n",
       "  <tbody>\n",
       "    <tr>\n",
       "      <th>15</th>\n",
       "      <td>0005054a-1608</td>\n",
       "      <td>Desktop</td>\n",
       "      <td>0.0</td>\n",
       "    </tr>\n",
       "    <tr>\n",
       "      <th>204</th>\n",
       "      <td>002c4caa-1917</td>\n",
       "      <td>Desktop</td>\n",
       "      <td>0.0</td>\n",
       "    </tr>\n",
       "    <tr>\n",
       "      <th>701</th>\n",
       "      <td>00302377-8608</td>\n",
       "      <td>Desktop</td>\n",
       "      <td>0.0</td>\n",
       "    </tr>\n",
       "    <tr>\n",
       "      <th>1408</th>\n",
       "      <td>0047ab48-5829</td>\n",
       "      <td>Unknown</td>\n",
       "      <td>1.0</td>\n",
       "    </tr>\n",
       "    <tr>\n",
       "      <th>819</th>\n",
       "      <td>0049fd3a-6053</td>\n",
       "      <td>Desktop</td>\n",
       "      <td>0.0</td>\n",
       "    </tr>\n",
       "  </tbody>\n",
       "</table>\n",
       "</div>"
      ],
      "text/plain": [
       "         session_id device_type  order_placed\n",
       "15    0005054a-1608     Desktop           0.0\n",
       "204   002c4caa-1917     Desktop           0.0\n",
       "701   00302377-8608     Desktop           0.0\n",
       "1408  0047ab48-5829     Unknown           1.0\n",
       "819   0049fd3a-6053     Desktop           0.0"
      ]
     },
     "execution_count": 74,
     "metadata": {},
     "output_type": "execute_result"
    }
   ],
   "source": [
    "# desktop users only\n",
    "crit = device['device_type']=='Desktop'\n",
    "desktop = device[crit]\n",
    "\n",
    "# outer merge with orders\n",
    "desktop_orders = desktop.merge(orders, on='session_id', how='outer').sort_values('session_id')\n",
    "\n",
    "# fill na\n",
    "desktop_orders['device_type'] = desktop_orders['device_type'].fillna('Unknown')\n",
    "desktop_orders['order_placed'] = desktop_orders['order_placed'].fillna(0)\n",
    "\n",
    "# show\n",
    "desktop_orders.head()"
   ]
  },
  {
   "cell_type": "code",
   "execution_count": 75,
   "id": "53fa49ae",
   "metadata": {},
   "outputs": [
    {
     "data": {
      "image/png": "[encoded data removed]",
      "text/plain": [
       "<Figure size 864x432 with 1 Axes>"
      ]
     },
     "metadata": {},
     "output_type": "display_data"
    }
   ],
   "source": [
    "# pivot\n",
    "groupby = ['device_type', 'order_placed']\n",
    "desktop_orders_pivot = desktop_orders.groupby(groupby).agg({'session_id':'count'})\n",
    "\n",
    "# pie variables\n",
    "y = desktop_orders_pivot['session_id']\n",
    "labels = ['Desktop', 'Desktop + Orders', 'Orders']\n",
    "explode = [0, 0.2, 0]\n",
    "title = 'Outer join'\n",
    "\n",
    "# show\n",
    "fig, ax_1 = plt.subplots(nrows=1, ncols=1, figsize=(12,6))\n",
    "viz_pie(ax_1, y, labels, explode)\n",
    "plt.show()"
   ]
  }
 ],
 "metadata": {
  "kernelspec": {
   "display_name": "conda_python3",
   "language": "python",
   "name": "conda_python3"
  },
  "language_info": {
   "codemirror_mode": {
    "name": "ipython",
    "version": 3
   },
   "file_extension": ".py",
   "mimetype": "text/x-python",
   "name": "python",
   "nbconvert_exporter": "python",
   "pygments_lexer": "ipython3",
   "version": "3.6.13"
  }
 },
 "nbformat": 4,
 "nbformat_minor": 5
}
