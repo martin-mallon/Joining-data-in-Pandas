{
 "cells": [
  {
   "cell_type": "code",
   "execution_count": 1,
   "id": "e8dc484d",
   "metadata": {},
   "outputs": [],
   "source": [
    "import seaborn as sns\n",
    "\n",
    "# font size\n",
    "font_size = 12\n",
    "\n",
    "# style\n",
    "style_use = 'ggplot'\n",
    "\n",
    "# style params\n",
    "style_params = {'legend.fontsize': font_size*0.75,\n",
    "               'axes.labelsize': font_size,\n",
    "               'axes.titlesize': font_size,\n",
    "               'xtick.labelsize': font_size*0.75,\n",
    "               'ytick.labelsize': font_size*0.75,\n",
    "               'axes.titlepad': 25,\n",
    "               'figure.titlesize': font_size*1.5}\n",
    "\n",
    "# color palettes\n",
    "palette_blues = sns.color_palette('Blues')\n",
    "palette_paired = sns.color_palette('Paired')"
   ]
  }
 ],
 "metadata": {
  "kernelspec": {
   "display_name": "conda_python3",
   "language": "python",
   "name": "conda_python3"
  },
  "language_info": {
   "codemirror_mode": {
    "name": "ipython",
    "version": 3
   },
   "file_extension": ".py",
   "mimetype": "text/x-python",
   "name": "python",
   "nbconvert_exporter": "python",
   "pygments_lexer": "ipython3",
   "version": "3.6.13"
  }
 },
 "nbformat": 4,
 "nbformat_minor": 5
}
